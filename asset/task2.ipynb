{
 "cells": [
  {
   "cell_type": "markdown",
   "metadata": {},
   "source": [
    "# Mengukur Jarak Data"
   ]
  },
  {
   "cell_type": "markdown",
   "metadata": {},
   "source": [
    "## Mengukur Jarak Tipe Numerik"
   ]
  },
  {
   "cell_type": "markdown",
   "metadata": {},
   "source": [
    "### Tugas II (Mengukur Jarak pada Data Real)"
   ]
  },
  {
   "cell_type": "code",
   "execution_count": 19,
   "metadata": {},
   "outputs": [
    {
     "data": {
      "text/html": [
       "<div>\n",
       "<style scoped>\n",
       "    .dataframe tbody tr th:only-of-type {\n",
       "        vertical-align: middle;\n",
       "    }\n",
       "\n",
       "    .dataframe tbody tr th {\n",
       "        vertical-align: top;\n",
       "    }\n",
       "\n",
       "    .dataframe thead th {\n",
       "        text-align: right;\n",
       "    }\n",
       "</style>\n",
       "<table border=\"1\" class=\"dataframe\">\n",
       "  <thead>\n",
       "    <tr style=\"text-align: right;\">\n",
       "      <th></th>\n",
       "      <th>a</th>\n",
       "      <th>b</th>\n",
       "      <th>c</th>\n",
       "      <th>d</th>\n",
       "      <th>e</th>\n",
       "      <th>f</th>\n",
       "    </tr>\n",
       "  </thead>\n",
       "  <tbody>\n",
       "    <tr>\n",
       "      <th>33</th>\n",
       "      <td>88</td>\n",
       "      <td>96</td>\n",
       "      <td>28</td>\n",
       "      <td>21</td>\n",
       "      <td>3</td>\n",
       "      <td>1</td>\n",
       "    </tr>\n",
       "    <tr>\n",
       "      <th>34</th>\n",
       "      <td>94</td>\n",
       "      <td>65</td>\n",
       "      <td>22</td>\n",
       "      <td>18</td>\n",
       "      <td>5</td>\n",
       "      <td>1</td>\n",
       "    </tr>\n",
       "    <tr>\n",
       "      <th>35</th>\n",
       "      <td>91</td>\n",
       "      <td>72</td>\n",
       "      <td>155</td>\n",
       "      <td>68</td>\n",
       "      <td>3</td>\n",
       "      <td>2</td>\n",
       "    </tr>\n",
       "    <tr>\n",
       "      <th>36</th>\n",
       "      <td>85</td>\n",
       "      <td>54</td>\n",
       "      <td>47</td>\n",
       "      <td>33</td>\n",
       "      <td>3</td>\n",
       "      <td>2</td>\n",
       "    </tr>\n",
       "    <tr>\n",
       "      <th>37</th>\n",
       "      <td>79</td>\n",
       "      <td>39</td>\n",
       "      <td>14</td>\n",
       "      <td>19</td>\n",
       "      <td>3</td>\n",
       "      <td>2</td>\n",
       "    </tr>\n",
       "  </tbody>\n",
       "</table>\n",
       "</div>"
      ],
      "text/plain": [
       "     a   b    c   d  e  f\n",
       "33  88  96   28  21  3  1\n",
       "34  94  65   22  18  5  1\n",
       "35  91  72  155  68  3  2\n",
       "36  85  54   47  33  3  2\n",
       "37  79  39   14  19  3  2"
      ]
     },
     "execution_count": 19,
     "metadata": {},
     "output_type": "execute_result"
    }
   ],
   "source": [
    "from scipy import stats\n",
    "import pandas as pd\n",
    "df = pd.read_csv('bupa.csv')\n",
    "a=df.iloc[33:38]\n",
    "a"
   ]
  },
  {
   "cell_type": "code",
   "execution_count": 20,
   "metadata": {},
   "outputs": [],
   "source": [
    "binary=[5]\n",
    "ordinal=[4]\n",
    "num=[0,1,2,3]"
   ]
  },
  {
   "cell_type": "code",
   "execution_count": 21,
   "metadata": {},
   "outputs": [
    {
     "data": {
      "text/html": [
       "<table>\n",
       "<tbody>\n",
       "<tr><td>Data </td><td>Jarak</td><td>Numeric</td><td>Ordinal</td><td>Categorical</td><td>Binary</td></tr>\n",
       "<tr><td>v1-v2</td><td>0    </td><td>0      </td><td>0      </td><td>0          </td><td>0     </td></tr>\n",
       "<tr><td>v1-v3</td><td>0    </td><td>0      </td><td>0      </td><td>0          </td><td>0     </td></tr>\n",
       "<tr><td>v2-v3</td><td>0    </td><td>0      </td><td>0      </td><td>0          </td><td>0     </td></tr>\n",
       "<tr><td>v3-v4</td><td>0    </td><td>0      </td><td>0      </td><td>0          </td><td>0     </td></tr>\n",
       "</tbody>\n",
       "</table>"
      ],
      "text/plain": [
       "<IPython.core.display.HTML object>"
      ]
     },
     "metadata": {},
     "output_type": "display_data"
    }
   ],
   "source": [
    "from IPython.display import HTML, display\n",
    "import tabulate\n",
    "table=[\n",
    "    [\"Data\"]+[\"Jarak\"]+[\"Numeric\"]+[\"Ordinal\"]+[\"Categorical\"]+[\"Binary\"],\n",
    "    [\"v1-v2\"]+[0]+[0]+[0]+[0]+[0],\n",
    "    [\"v1-v3\"]+[0]+[0]+[0]+[0]+[0],\n",
    "    [\"v2-v3\"]+[0]+[0]+[0]+[0]+[0],\n",
    "    [\"v3-v4\"]+[0]+[0]+[0]+[0]+[0],\n",
    "    ]\n",
    "\n",
    "display(HTML(tabulate.tabulate(table, tablefmt='html')))"
   ]
  },
  {
   "cell_type": "markdown",
   "metadata": {},
   "source": [
    "### Jarak Numeric"
   ]
  },
  {
   "cell_type": "code",
   "execution_count": 22,
   "metadata": {},
   "outputs": [],
   "source": [
    "def chordDist(v1,v2,jnis):\n",
    "    jmlh=0\n",
    "    normv1=0\n",
    "    normv2=0\n",
    "    for x in range (len(jnis)):\n",
    "        normv1=normv1+(int(a.values.tolist()[v1][jnis[x]])**2)\n",
    "        normv2=normv2+(int(a.values.tolist()[v2][jnis[x]])**2)\n",
    "        jmlh=jmlh+(int(a.values.tolist()[v1][jnis[x]])*int(a.values.tolist()[v2][jnis[x]]))\n",
    "    return ((2-(2*jmlh/(normv1*normv2)))**0.5)"
   ]
  },
  {
   "cell_type": "code",
   "execution_count": 23,
   "metadata": {},
   "outputs": [
    {
     "data": {
      "text/html": [
       "<table>\n",
       "<tbody>\n",
       "<tr><td>Data </td><td>Jarak</td><td>Numeric           </td><td>Ordinal</td><td>Binary</td></tr>\n",
       "<tr><td>v1-v2</td><td>0    </td><td>1.4141700880324857</td><td>0      </td><td>0     </td></tr>\n",
       "<tr><td>v1-v3</td><td>0    </td><td>1.4141944609095267</td><td>0      </td><td>0     </td></tr>\n",
       "<tr><td>v2-v3</td><td>0    </td><td>1.4141919305747108</td><td>0      </td><td>0     </td></tr>\n",
       "<tr><td>v3-v4</td><td>0    </td><td>1.4141637566653718</td><td>0      </td><td>0     </td></tr>\n",
       "</tbody>\n",
       "</table>"
      ],
      "text/plain": [
       "<IPython.core.display.HTML object>"
      ]
     },
     "metadata": {},
     "output_type": "display_data"
    }
   ],
   "source": [
    "from IPython.display import HTML, display\n",
    "import tabulate\n",
    "table=[\n",
    "    [\"Data\"]+[\"Jarak\"]+[\"Numeric\"]+[\"Ordinal\"]+[\"Binary\"],\n",
    "    [\"v1-v2\"]+[0]+[chordDist(0,1,num)]+[0]+[0],\n",
    "    [\"v1-v3\"]+[0]+[chordDist(0,2,num)]+[0]+[0],\n",
    "    [\"v2-v3\"]+[0]+[chordDist(1,2,num)]+[0]+[0],\n",
    "    [\"v3-v4\"]+[0]+[chordDist(1,3,num)]+[0]+[0],\n",
    "    ]\n",
    "\n",
    "display(HTML(tabulate.tabulate(table, tablefmt='html')))"
   ]
  },
  {
   "cell_type": "markdown",
   "metadata": {},
   "source": [
    "### Jarak Ordinal"
   ]
  },
  {
   "cell_type": "code",
   "execution_count": 24,
   "metadata": {},
   "outputs": [],
   "source": [
    "def ordDist(v1,v2,jnis):\n",
    "    jmlh=0\n",
    "    for x in range (len(jnis)):\n",
    "        z1=int(a.values.tolist()[v1][jnis[x]])-1\n",
    "        z2=int(a.values.tolist()[v2][jnis[x]])-1\n",
    "        jmlh=jmlh+chordDist(z1,z2,jnis)\n",
    "    return (jmlh)"
   ]
  },
  {
   "cell_type": "code",
   "execution_count": 25,
   "metadata": {},
   "outputs": [
    {
     "data": {
      "text/html": [
       "<table>\n",
       "<tbody>\n",
       "<tr><td>Data </td><td>Jarak</td><td>Numeric           </td><td>Ordinal           </td><td>Binary</td></tr>\n",
       "<tr><td>v1-v2</td><td>0    </td><td>1.4141700880324857</td><td>1.3333333333333333</td><td>0     </td></tr>\n",
       "<tr><td>v1-v3</td><td>0    </td><td>1.4141944609095267</td><td>1.3333333333333333</td><td>0     </td></tr>\n",
       "<tr><td>v2-v3</td><td>0    </td><td>1.4141919305747108</td><td>1.3333333333333333</td><td>0     </td></tr>\n",
       "<tr><td>v3-v4</td><td>0    </td><td>1.4141637566653718</td><td>1.3333333333333333</td><td>0     </td></tr>\n",
       "</tbody>\n",
       "</table>"
      ],
      "text/plain": [
       "<IPython.core.display.HTML object>"
      ]
     },
     "metadata": {},
     "output_type": "display_data"
    }
   ],
   "source": [
    "from IPython.display import HTML, display\n",
    "import tabulate\n",
    "table=[\n",
    "    [\"Data\"]+[\"Jarak\"]+[\"Numeric\"]+[\"Ordinal\"]+[\"Binary\"],\n",
    "    [\"v1-v2\"]+[0]+[chordDist(0,1,num)]+[ordDist(0,1,ordinal)]+[0],\n",
    "    [\"v1-v3\"]+[0]+[chordDist(0,2,num)]+[ordDist(0,2,ordinal)]+[0],\n",
    "    [\"v2-v3\"]+[0]+[chordDist(1,2,num)]+[ordDist(1,2,ordinal)]+[0],\n",
    "    [\"v3-v4\"]+[0]+[chordDist(1,3,num)]+[ordDist(1,3,ordinal)]+[0],\n",
    "    ]\n",
    "\n",
    "display(HTML(tabulate.tabulate(table, tablefmt='html')))"
   ]
  },
  {
   "cell_type": "code",
   "execution_count": null,
   "metadata": {},
   "outputs": [],
   "source": []
  },
  {
   "cell_type": "markdown",
   "metadata": {},
   "source": [
    "### Jarak Binary"
   ]
  },
  {
   "cell_type": "code",
   "execution_count": 26,
   "metadata": {},
   "outputs": [],
   "source": [
    "def binaryDist(v1,v2,jnis):\n",
    "    q=0\n",
    "    r=0\n",
    "    s=0\n",
    "    t=0\n",
    "    for x in range (len(jnis)):\n",
    "        if (int(a.values.tolist()[v1][jnis[x]]))==1 and (int(a.values.tolist()[v2][jnis[x]]))==1:\n",
    "            q=q+1\n",
    "        elif (int(a.values.tolist()[v1][jnis[x]]))==1 and (int(a.values.tolist()[v2][jnis[x]]))==2:\n",
    "            r=r+1\n",
    "        elif (int(a.values.tolist()[v1][jnis[x]]))==2 and (int(a.values.tolist()[v2][jnis[x]]))==1:\n",
    "            s=s+1\n",
    "        else:\n",
    "            t=t+1\n",
    "    return ((r+s)/(q+r+s+t))"
   ]
  },
  {
   "cell_type": "code",
   "execution_count": 27,
   "metadata": {
    "scrolled": true
   },
   "outputs": [
    {
     "data": {
      "text/html": [
       "<table>\n",
       "<tbody>\n",
       "<tr><td>Data </td><td>Jarak</td><td>Numeric           </td><td>Ordinal           </td><td>Binary</td></tr>\n",
       "<tr><td>v1-v2</td><td>0    </td><td>1.4141700880324857</td><td>1.3333333333333333</td><td>0.0   </td></tr>\n",
       "<tr><td>v1-v3</td><td>0    </td><td>1.4141944609095267</td><td>1.3333333333333333</td><td>1.0   </td></tr>\n",
       "<tr><td>v2-v3</td><td>0    </td><td>1.4141919305747108</td><td>1.3333333333333333</td><td>1.0   </td></tr>\n",
       "<tr><td>v3-v4</td><td>0    </td><td>1.4141637566653718</td><td>1.3333333333333333</td><td>1.0   </td></tr>\n",
       "</tbody>\n",
       "</table>"
      ],
      "text/plain": [
       "<IPython.core.display.HTML object>"
      ]
     },
     "metadata": {},
     "output_type": "display_data"
    }
   ],
   "source": [
    "from IPython.display import HTML, display\n",
    "import tabulate\n",
    "table=[\n",
    "    [\"Data\"]+[\"Jarak\"]+[\"Numeric\"]+[\"Ordinal\"]+[\"Binary\"],\n",
    "    [\"v1-v2\"]+[0]+[chordDist(0,1,num)]+[ordDist(0,1,ordinal)]+[binaryDist(0,1,binary)],\n",
    "    [\"v1-v3\"]+[0]+[chordDist(0,2,num)]+[ordDist(0,2,ordinal)]+[binaryDist(0,2,binary)],\n",
    "    [\"v2-v3\"]+[0]+[chordDist(1,2,num)]+[ordDist(1,2,ordinal)]+[binaryDist(1,2,binary)],\n",
    "    [\"v3-v4\"]+[0]+[chordDist(1,3,num)]+[ordDist(1,3,ordinal)]+[binaryDist(1,3,binary)],\n",
    "    ]\n",
    "\n",
    "display(HTML(tabulate.tabulate(table, tablefmt='html')))"
   ]
  },
  {
   "cell_type": "markdown",
   "metadata": {},
   "source": [
    "# menghitung jarak campuran"
   ]
  },
  {
   "cell_type": "markdown",
   "metadata": {},
   "source": [
    "Jarak = Jumlah Jarak setiap jenis/Jumlah Jenis"
   ]
  },
  {
   "cell_type": "code",
   "execution_count": 28,
   "metadata": {},
   "outputs": [],
   "source": [
    "def jarak(v1,v2):\n",
    "    return ((chordDist(v1,v2,num)+ordDist(v1,v2,ordinal)+binaryDist(v1,v2,binary))/4)"
   ]
  },
  {
   "cell_type": "code",
   "execution_count": 29,
   "metadata": {
    "scrolled": false
   },
   "outputs": [
    {
     "data": {
      "text/html": [
       "<table>\n",
       "<tbody>\n",
       "<tr><td>Data </td><td>Jarak</td><td>Numeric</td><td>Ordinal</td><td>Binary</td></tr>\n",
       "<tr><td>v1-v2</td><td>0.687</td><td>1.414  </td><td>1.333  </td><td>0.000 </td></tr>\n",
       "<tr><td>v1-v3</td><td>0.937</td><td>1.414  </td><td>1.333  </td><td>1.000 </td></tr>\n",
       "<tr><td>v2-v3</td><td>0.937</td><td>1.414  </td><td>1.333  </td><td>1.000 </td></tr>\n",
       "<tr><td>v3-v4</td><td>0.937</td><td>1.414  </td><td>1.333  </td><td>1.000 </td></tr>\n",
       "</tbody>\n",
       "</table>"
      ],
      "text/plain": [
       "<IPython.core.display.HTML object>"
      ]
     },
     "metadata": {},
     "output_type": "display_data"
    }
   ],
   "source": [
    "from IPython.display import HTML, display\n",
    "import tabulate\n",
    "table=[\n",
    "    [\"Data\"]+[\"Jarak\"]+[\"Numeric\"]+[\"Ordinal\"]+[\"Binary\"],\n",
    "    [\"v1-v2\"]+[\"{:.3f}\".format(jarak(0,1))]+[\"{:.3f}\".format(chordDist(0,1,num))]+[\"{:.3f}\".format(ordDist(0,1,ordinal))]+[\"{:.3f}\".format(binaryDist(0,1,binary))],\n",
    "    [\"v1-v3\"]+[\"{:.3f}\".format(jarak(0,2))]+[\"{:.3f}\".format(chordDist(0,3,num))]+[\"{:.3f}\".format(ordDist(0,2,ordinal))]+[\"{:.3f}\".format(binaryDist(0,2,binary))],\n",
    "    [\"v2-v3\"]+[\"{:.3f}\".format(jarak(1,2))]+[\"{:.3f}\".format(chordDist(1,2,num))]+[\"{:.3f}\".format(ordDist(1,2,ordinal))]+[\"{:.3f}\".format(binaryDist(1,2,binary))],\n",
    "    [\"v3-v4\"]+[\"{:.3f}\".format(jarak(1,3))]+[\"{:.3f}\".format(chordDist(1,3,num))]+[\"{:.3f}\".format(ordDist(1,3,ordinal))]+[\"{:.3f}\".format(binaryDist(1,3,binary))],\n",
    "    ]\n",
    "\n",
    "display(HTML(tabulate.tabulate(table, tablefmt='html')))"
   ]
  },
  {
   "cell_type": "code",
   "execution_count": null,
   "metadata": {},
   "outputs": [],
   "source": []
  },
  {
   "cell_type": "code",
   "execution_count": null,
   "metadata": {},
   "outputs": [],
   "source": []
  },
  {
   "cell_type": "code",
   "execution_count": null,
   "metadata": {},
   "outputs": [],
   "source": []
  }
 ],
 "metadata": {
  "kernelspec": {
   "display_name": "Python 3",
   "language": "python",
   "name": "python3"
  },
  "language_info": {
   "codemirror_mode": {
    "name": "ipython",
    "version": 3
   },
   "file_extension": ".py",
   "mimetype": "text/x-python",
   "name": "python",
   "nbconvert_exporter": "python",
   "pygments_lexer": "ipython3",
   "version": "3.7.3"
  }
 },
 "nbformat": 4,
 "nbformat_minor": 2
}
