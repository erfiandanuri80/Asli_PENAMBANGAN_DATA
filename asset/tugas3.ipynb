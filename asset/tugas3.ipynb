{
 "cells": [
  {
   "cell_type": "code",
   "execution_count": 1,
   "metadata": {},
   "outputs": [
    {
     "data": {
      "text/html": [
       "<table>\n",
       "<thead>\n",
       "<tr><th>outlook  </th><th>temperature  </th><th>humidity  </th><th>windy  </th><th>play  </th></tr>\n",
       "</thead>\n",
       "<tbody>\n",
       "<tr><td>sunny    </td><td>hot          </td><td>high      </td><td>False  </td><td>no    </td></tr>\n",
       "<tr><td>sunny    </td><td>hot          </td><td>high      </td><td>True   </td><td>no    </td></tr>\n",
       "<tr><td>overcast </td><td>hot          </td><td>high      </td><td>False  </td><td>yes   </td></tr>\n",
       "<tr><td>rainy    </td><td>mild         </td><td>high      </td><td>False  </td><td>yes   </td></tr>\n",
       "<tr><td>rainy    </td><td>cool         </td><td>normal    </td><td>False  </td><td>yes   </td></tr>\n",
       "<tr><td>rainy    </td><td>cool         </td><td>normal    </td><td>True   </td><td>no    </td></tr>\n",
       "<tr><td>overcast </td><td>cool         </td><td>normal    </td><td>True   </td><td>yes   </td></tr>\n",
       "<tr><td>sunny    </td><td>mild         </td><td>high      </td><td>False  </td><td>no    </td></tr>\n",
       "<tr><td>sunny    </td><td>cool         </td><td>normal    </td><td>False  </td><td>yes   </td></tr>\n",
       "<tr><td>rainy    </td><td>mild         </td><td>normal    </td><td>False  </td><td>yes   </td></tr>\n",
       "<tr><td>sunny    </td><td>mild         </td><td>normal    </td><td>True   </td><td>yes   </td></tr>\n",
       "<tr><td>overcast </td><td>mild         </td><td>high      </td><td>True   </td><td>yes   </td></tr>\n",
       "<tr><td>overcast </td><td>hot          </td><td>normal    </td><td>False  </td><td>yes   </td></tr>\n",
       "<tr><td>rainy    </td><td>mild         </td><td>high      </td><td>True   </td><td>no    </td></tr>\n",
       "</tbody>\n",
       "</table>"
      ],
      "text/plain": [
       "<IPython.core.display.HTML object>"
      ]
     },
     "metadata": {},
     "output_type": "display_data"
    }
   ],
   "source": [
    "from pandas import *\n",
    "from IPython.display import HTML, display\n",
    "from tabulate import tabulate\n",
    "from math import log\n",
    "from sklearn.feature_selection import mutual_info_classif\n",
    "\n",
    "\n",
    "def table(df): \n",
    "    display(HTML(tabulate(df, tablefmt='html', headers='keys', showindex=False)))\n",
    "df = read_csv('feature_selection.csv', sep=';')\n",
    "table(df)"
   ]
  },
  {
   "cell_type": "code",
   "execution_count": null,
   "metadata": {},
   "outputs": [],
   "source": []
  },
  {
   "cell_type": "code",
   "execution_count": 2,
   "metadata": {},
   "outputs": [
    {
     "data": {
      "text/html": [
       "<table>\n",
       "<thead>\n",
       "<tr><th>value  </th><th style=\"text-align: right;\">  count</th><th style=\"text-align: right;\">  probability</th></tr>\n",
       "</thead>\n",
       "<tbody>\n",
       "<tr><td>no     </td><td style=\"text-align: right;\">      5</td><td style=\"text-align: right;\">     0.357143</td></tr>\n",
       "<tr><td>yes    </td><td style=\"text-align: right;\">      9</td><td style=\"text-align: right;\">     0.642857</td></tr>\n",
       "</tbody>\n",
       "</table>"
      ],
      "text/plain": [
       "<IPython.core.display.HTML object>"
      ]
     },
     "metadata": {},
     "output_type": "display_data"
    },
    {
     "name": "stdout",
     "output_type": "stream",
     "text": [
      "entropy target = 0.9402859586706309\n"
     ]
    }
   ],
   "source": [
    "def findEntropy(column):\n",
    "    rawGroups = df.groupby(column)\n",
    "    targetGroups = [[key, len(data), len(data)/df[column].size] for key,data in rawGroups]\n",
    "    targetGroups = DataFrame(targetGroups, columns=['value', 'count', 'probability'])\n",
    "    return sum([-x*log(x,2) for x in targetGroups['probability']]), targetGroups, rawGroups\n",
    "\n",
    "entropyTarget, groupTargets, _ = findEntropy('play')\n",
    "table(groupTargets)\n",
    "print('entropy target =', entropyTarget)"
   ]
  },
  {
   "cell_type": "code",
   "execution_count": 16,
   "metadata": {},
   "outputs": [
    {
     "data": {
      "text/html": [
       "<table>\n",
       "<thead>\n",
       "<tr><th>value   </th><th style=\"text-align: right;\">  count</th><th style=\"text-align: right;\">  probability</th></tr>\n",
       "</thead>\n",
       "<tbody>\n",
       "<tr><td>overcast</td><td style=\"text-align: right;\">      4</td><td style=\"text-align: right;\">     0.285714</td></tr>\n",
       "<tr><td>rainy   </td><td style=\"text-align: right;\">      5</td><td style=\"text-align: right;\">     0.357143</td></tr>\n",
       "<tr><td>sunny   </td><td style=\"text-align: right;\">      5</td><td style=\"text-align: right;\">     0.357143</td></tr>\n",
       "</tbody>\n",
       "</table>"
      ],
      "text/plain": [
       "<IPython.core.display.HTML object>"
      ]
     },
     "metadata": {},
     "output_type": "display_data"
    },
    {
     "name": "stdout",
     "output_type": "stream",
     "text": [
      "gain of outlook is 0.2467498197744391\n"
     ]
    },
    {
     "data": {
      "text/html": [
       "<table>\n",
       "<thead>\n",
       "<tr><th>value  </th><th style=\"text-align: right;\">  count</th><th style=\"text-align: right;\">  probability</th></tr>\n",
       "</thead>\n",
       "<tbody>\n",
       "<tr><td>cool   </td><td style=\"text-align: right;\">      4</td><td style=\"text-align: right;\">     0.285714</td></tr>\n",
       "<tr><td>hot    </td><td style=\"text-align: right;\">      4</td><td style=\"text-align: right;\">     0.285714</td></tr>\n",
       "<tr><td>mild   </td><td style=\"text-align: right;\">      6</td><td style=\"text-align: right;\">     0.428571</td></tr>\n",
       "</tbody>\n",
       "</table>"
      ],
      "text/plain": [
       "<IPython.core.display.HTML object>"
      ]
     },
     "metadata": {},
     "output_type": "display_data"
    },
    {
     "name": "stdout",
     "output_type": "stream",
     "text": [
      "gain of temperature is 0.029222565658954647\n"
     ]
    },
    {
     "data": {
      "text/html": [
       "<table>\n",
       "<thead>\n",
       "<tr><th>value  </th><th style=\"text-align: right;\">  count</th><th style=\"text-align: right;\">  probability</th></tr>\n",
       "</thead>\n",
       "<tbody>\n",
       "<tr><td>high   </td><td style=\"text-align: right;\">      7</td><td style=\"text-align: right;\">          0.5</td></tr>\n",
       "<tr><td>normal </td><td style=\"text-align: right;\">      7</td><td style=\"text-align: right;\">          0.5</td></tr>\n",
       "</tbody>\n",
       "</table>"
      ],
      "text/plain": [
       "<IPython.core.display.HTML object>"
      ]
     },
     "metadata": {},
     "output_type": "display_data"
    },
    {
     "name": "stdout",
     "output_type": "stream",
     "text": [
      "gain of humidity is 0.15183550136234136\n"
     ]
    },
    {
     "data": {
      "text/html": [
       "<table>\n",
       "<thead>\n",
       "<tr><th>value  </th><th style=\"text-align: right;\">  count</th><th style=\"text-align: right;\">  probability</th></tr>\n",
       "</thead>\n",
       "<tbody>\n",
       "<tr><td>False  </td><td style=\"text-align: right;\">      8</td><td style=\"text-align: right;\">     0.571429</td></tr>\n",
       "<tr><td>True   </td><td style=\"text-align: right;\">      6</td><td style=\"text-align: right;\">     0.428571</td></tr>\n",
       "</tbody>\n",
       "</table>"
      ],
      "text/plain": [
       "<IPython.core.display.HTML object>"
      ]
     },
     "metadata": {},
     "output_type": "display_data"
    },
    {
     "name": "stdout",
     "output_type": "stream",
     "text": [
      "gain of windy is 0.04812703040826927\n"
     ]
    }
   ],
   "source": [
    "def findGain(column):\n",
    "    entropyOutlook, groupOutlooks, rawOutlooks = findEntropy(column)\n",
    "    table(groupOutlooks)\n",
    "    gain = entropyTarget-sum(len(data)/len(df)*sum(-x/len(data)*log(x/len(data),2) \n",
    "                for x in data.groupby('play').size()) for key,data in rawOutlooks)\n",
    "    print(\"gain of\",column,\"is\",gain)\n",
    "    return gain\n",
    "\n",
    "gains = [[x,findGain(x)] for x in ['outlook','temperature','humidity','windy']]\n"
   ]
  },
  {
   "cell_type": "code",
   "execution_count": 23,
   "metadata": {},
   "outputs": [
    {
     "data": {
      "text/html": [
       "<table>\n",
       "<thead>\n",
       "<tr><th>Feature    </th><th style=\"text-align: right;\">  Gain Score</th></tr>\n",
       "</thead>\n",
       "<tbody>\n",
       "<tr><td>outlook    </td><td style=\"text-align: right;\">   0.24675  </td></tr>\n",
       "<tr><td>humidity   </td><td style=\"text-align: right;\">   0.151836 </td></tr>\n",
       "<tr><td>windy      </td><td style=\"text-align: right;\">   0.048127 </td></tr>\n",
       "<tr><td>temperature</td><td style=\"text-align: right;\">   0.0292226</td></tr>\n",
       "</tbody>\n",
       "</table>"
      ],
      "text/plain": [
       "<IPython.core.display.HTML object>"
      ]
     },
     "metadata": {},
     "output_type": "display_data"
    }
   ],
   "source": [
    "table(DataFrame(gains, columns=[\"Feature\", \"Gain Score\"]).sort_values(\"Gain Score\")[::-1])"
   ]
  },
  {
   "cell_type": "code",
   "execution_count": null,
   "metadata": {},
   "outputs": [],
   "source": []
  }
 ],
 "metadata": {
  "kernelspec": {
   "display_name": "Python 3",
   "language": "python",
   "name": "python3"
  },
  "language_info": {
   "codemirror_mode": {
    "name": "ipython",
    "version": 3
   },
   "file_extension": ".py",
   "mimetype": "text/x-python",
   "name": "python",
   "nbconvert_exporter": "python",
   "pygments_lexer": "ipython3",
   "version": "3.7.3"
  }
 },
 "nbformat": 4,
 "nbformat_minor": 2
}
